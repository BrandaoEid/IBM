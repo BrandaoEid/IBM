{
  "nbformat": 4,
  "nbformat_minor": 0,
  "metadata": {
    "colab": {
      "name": "Segmenting and Clustering Neighborhoods in Toronto",
      "provenance": [],
      "authorship_tag": "ABX9TyNxMBjuh4EJ8pkBEyw1lfVx",
      "include_colab_link": true
    },
    "kernelspec": {
      "name": "python3",
      "display_name": "Python 3"
    }
  },
  "cells": [
    {
      "cell_type": "markdown",
      "metadata": {
        "id": "view-in-github",
        "colab_type": "text"
      },
      "source": [
        "<a href=\"https://colab.research.google.com/github/BrandaoEid/IBM/blob/master/Segmenting_and_Clustering_Neighborhoods_in_Toronto.ipynb\" target=\"_parent\"><img src=\"https://colab.research.google.com/assets/colab-badge.svg\" alt=\"Open In Colab\"/></a>"
      ]
    },
    {
      "cell_type": "markdown",
      "metadata": {
        "id": "2Op4wucLNMgd",
        "colab_type": "text"
      },
      "source": [
        "# Segmenting and Clustering Neighborhoods in Toronto"
      ]
    },
    {
      "cell_type": "code",
      "metadata": {
        "id": "B39vzbT5NQWj",
        "colab_type": "code",
        "outputId": "028bc02c-5eb0-4ffb-dd2a-0807a412825d",
        "colab": {
          "base_uri": "https://localhost:8080/",
          "height": 36
        }
      },
      "source": [
        "from bs4 import BeautifulSoup\n",
        "import requests\n",
        "import pandas as pd\n",
        "\n",
        "#!pip install geocoder\n",
        "import geocoder\n",
        "import folium\n",
        "\n",
        "\n",
        "print('Bibliotecas importadas!')"
      ],
      "execution_count": 193,
      "outputs": [
        {
          "output_type": "stream",
          "text": [
            "Bibliotecas importadas!\n"
          ],
          "name": "stdout"
        }
      ]
    },
    {
      "cell_type": "markdown",
      "metadata": {
        "id": "gEGsNqW1ONQz",
        "colab_type": "text"
      },
      "source": [
        "## Web Scraping"
      ]
    },
    {
      "cell_type": "code",
      "metadata": {
        "id": "iXapLBPvOTRp",
        "colab_type": "code",
        "colab": {}
      },
      "source": [
        "url = requests.get('https://en.wikipedia.org/wiki/List_of_postal_codes_of_Canada:_M').text"
      ],
      "execution_count": 0,
      "outputs": []
    },
    {
      "cell_type": "code",
      "metadata": {
        "id": "nt9wRFUkOh-a",
        "colab_type": "code",
        "colab": {}
      },
      "source": [
        "soup = BeautifulSoup(url,'lxml')"
      ],
      "execution_count": 0,
      "outputs": []
    },
    {
      "cell_type": "code",
      "metadata": {
        "id": "4BgRGgNpOrIS",
        "colab_type": "code",
        "colab": {}
      },
      "source": [
        "tables = soup.find('table',{'class':'wikitable sortable'})"
      ],
      "execution_count": 0,
      "outputs": []
    },
    {
      "cell_type": "code",
      "metadata": {
        "id": "dOL3LVcMQet4",
        "colab_type": "code",
        "colab": {}
      },
      "source": [
        "#Create array to hold the data we extract\n",
        "postalCodes = []\n",
        "borough = []\n",
        "neighborhood = []\n",
        "\n",
        "rows = tables.findAll('tr')\n",
        "\n",
        "for row in rows:\n",
        "    cells = row.findAll('td')\n",
        "\n",
        "    if (len(cells) > 1):\n",
        "        postalCodes.append(cells[0].text.replace(\"\\n\",\"\"))\n",
        "        borough.append(cells[1].text.replace(\"\\n\",\"\"))\n",
        "        neighborhood.append(cells[2].text.replace(\"\\n\",\"\").replace(\" / \",\", \"))"
      ],
      "execution_count": 0,
      "outputs": []
    },
    {
      "cell_type": "markdown",
      "metadata": {
        "id": "InFTDo55ewXY",
        "colab_type": "text"
      },
      "source": [
        "# Data manipulation"
      ]
    },
    {
      "cell_type": "markdown",
      "metadata": {
        "id": "qJ6KRn9alM1T",
        "colab_type": "text"
      },
      "source": [
        "The dataframe will consist of three columns: PostalCode, Borough, and Neighborhood"
      ]
    },
    {
      "cell_type": "code",
      "metadata": {
        "id": "ZiIiqZVkgXap",
        "colab_type": "code",
        "colab": {}
      },
      "source": [
        "loc_df = pd.DataFrame(\n",
        "    {'PostalCode': postalCodes,\n",
        "     'Borough': borough,\n",
        "     'Neighborhood': neighborhood\n",
        "    })"
      ],
      "execution_count": 0,
      "outputs": []
    },
    {
      "cell_type": "markdown",
      "metadata": {
        "id": "bBIRWGO0la0g",
        "colab_type": "text"
      },
      "source": [
        "Only process the cells that have an assigned borough. Ignore cells with a borough that is Not assigned."
      ]
    },
    {
      "cell_type": "code",
      "metadata": {
        "id": "BvnmbSwMlYn8",
        "colab_type": "code",
        "colab": {}
      },
      "source": [
        "loc_df = loc_df[loc_df['Borough'] != 'Not assigned']"
      ],
      "execution_count": 0,
      "outputs": []
    },
    {
      "cell_type": "markdown",
      "metadata": {
        "id": "OScThC-9kwd5",
        "colab_type": "text"
      },
      "source": [
        "More than one neighborhood can exist in one postal code area. For example, in the table on the Wikipedia page, you will notice that M5A is listed twice and has two neighborhoods: Harbourfront and Regent Park. These two rows will be combined into one row with the neighborhoods separated with a comma as shown in row 11 in the above table.\n"
      ]
    },
    {
      "cell_type": "code",
      "metadata": {
        "id": "bHNVxGjhgvUZ",
        "colab_type": "code",
        "outputId": "5baa3922-1acc-4a99-8e7b-67b033fb4f3f",
        "colab": {
          "base_uri": "https://localhost:8080/",
          "height": 363
        }
      },
      "source": [
        "loc_df.head(10)"
      ],
      "execution_count": 0,
      "outputs": [
        {
          "output_type": "execute_result",
          "data": {
            "text/html": [
              "<div>\n",
              "<style scoped>\n",
              "    .dataframe tbody tr th:only-of-type {\n",
              "        vertical-align: middle;\n",
              "    }\n",
              "\n",
              "    .dataframe tbody tr th {\n",
              "        vertical-align: top;\n",
              "    }\n",
              "\n",
              "    .dataframe thead th {\n",
              "        text-align: right;\n",
              "    }\n",
              "</style>\n",
              "<table border=\"1\" class=\"dataframe\">\n",
              "  <thead>\n",
              "    <tr style=\"text-align: right;\">\n",
              "      <th></th>\n",
              "      <th>PostalCode</th>\n",
              "      <th>Borough</th>\n",
              "      <th>Neighborhood</th>\n",
              "    </tr>\n",
              "  </thead>\n",
              "  <tbody>\n",
              "    <tr>\n",
              "      <th>2</th>\n",
              "      <td>M3A</td>\n",
              "      <td>North York</td>\n",
              "      <td>Parkwoods</td>\n",
              "    </tr>\n",
              "    <tr>\n",
              "      <th>3</th>\n",
              "      <td>M4A</td>\n",
              "      <td>North York</td>\n",
              "      <td>Victoria Village</td>\n",
              "    </tr>\n",
              "    <tr>\n",
              "      <th>4</th>\n",
              "      <td>M5A</td>\n",
              "      <td>Downtown Toronto</td>\n",
              "      <td>Regent Park, Harbourfront</td>\n",
              "    </tr>\n",
              "    <tr>\n",
              "      <th>5</th>\n",
              "      <td>M6A</td>\n",
              "      <td>North York</td>\n",
              "      <td>Lawrence Manor, Lawrence Heights</td>\n",
              "    </tr>\n",
              "    <tr>\n",
              "      <th>6</th>\n",
              "      <td>M7A</td>\n",
              "      <td>Downtown Toronto</td>\n",
              "      <td>Queen's Park, Ontario Provincial Government</td>\n",
              "    </tr>\n",
              "    <tr>\n",
              "      <th>8</th>\n",
              "      <td>M9A</td>\n",
              "      <td>Etobicoke</td>\n",
              "      <td>Islington Avenue</td>\n",
              "    </tr>\n",
              "    <tr>\n",
              "      <th>9</th>\n",
              "      <td>M1B</td>\n",
              "      <td>Scarborough</td>\n",
              "      <td>Malvern, Rouge</td>\n",
              "    </tr>\n",
              "    <tr>\n",
              "      <th>11</th>\n",
              "      <td>M3B</td>\n",
              "      <td>North York</td>\n",
              "      <td>Don Mills</td>\n",
              "    </tr>\n",
              "    <tr>\n",
              "      <th>12</th>\n",
              "      <td>M4B</td>\n",
              "      <td>East York</td>\n",
              "      <td>Parkview Hill, Woodbine Gardens</td>\n",
              "    </tr>\n",
              "    <tr>\n",
              "      <th>13</th>\n",
              "      <td>M5B</td>\n",
              "      <td>Downtown Toronto</td>\n",
              "      <td>Garden District, Ryerson</td>\n",
              "    </tr>\n",
              "  </tbody>\n",
              "</table>\n",
              "</div>"
            ],
            "text/plain": [
              "   PostalCode           Borough                                 Neighborhood\n",
              "2         M3A        North York                                    Parkwoods\n",
              "3         M4A        North York                             Victoria Village\n",
              "4         M5A  Downtown Toronto                    Regent Park, Harbourfront\n",
              "5         M6A        North York             Lawrence Manor, Lawrence Heights\n",
              "6         M7A  Downtown Toronto  Queen's Park, Ontario Provincial Government\n",
              "8         M9A         Etobicoke                             Islington Avenue\n",
              "9         M1B       Scarborough                               Malvern, Rouge\n",
              "11        M3B        North York                                    Don Mills\n",
              "12        M4B         East York              Parkview Hill, Woodbine Gardens\n",
              "13        M5B  Downtown Toronto                     Garden District, Ryerson"
            ]
          },
          "metadata": {
            "tags": []
          },
          "execution_count": 125
        }
      ]
    },
    {
      "cell_type": "markdown",
      "metadata": {
        "id": "NZ_Fc1RgkRoo",
        "colab_type": "text"
      },
      "source": [
        "If a cell has a borough but a Not assigned neighborhood, then the neighborhood will be the same as the borough."
      ]
    },
    {
      "cell_type": "code",
      "metadata": {
        "id": "sRpeY3DnieKQ",
        "colab_type": "code",
        "outputId": "cefadfcb-6def-45a5-e4f6-f6be5b6e2896",
        "colab": {
          "base_uri": "https://localhost:8080/",
          "height": 49
        }
      },
      "source": [
        "loc_df[(loc_df['Borough'] != 'Not assigned')&(loc_df['Neighborhood'] == '')]"
      ],
      "execution_count": 0,
      "outputs": [
        {
          "output_type": "execute_result",
          "data": {
            "text/html": [
              "<div>\n",
              "<style scoped>\n",
              "    .dataframe tbody tr th:only-of-type {\n",
              "        vertical-align: middle;\n",
              "    }\n",
              "\n",
              "    .dataframe tbody tr th {\n",
              "        vertical-align: top;\n",
              "    }\n",
              "\n",
              "    .dataframe thead th {\n",
              "        text-align: right;\n",
              "    }\n",
              "</style>\n",
              "<table border=\"1\" class=\"dataframe\">\n",
              "  <thead>\n",
              "    <tr style=\"text-align: right;\">\n",
              "      <th></th>\n",
              "      <th>PostalCode</th>\n",
              "      <th>Borough</th>\n",
              "      <th>Neighborhood</th>\n",
              "    </tr>\n",
              "  </thead>\n",
              "  <tbody>\n",
              "  </tbody>\n",
              "</table>\n",
              "</div>"
            ],
            "text/plain": [
              "Empty DataFrame\n",
              "Columns: [PostalCode, Borough, Neighborhood]\n",
              "Index: []"
            ]
          },
          "metadata": {
            "tags": []
          },
          "execution_count": 126
        }
      ]
    },
    {
      "cell_type": "markdown",
      "metadata": {
        "id": "htpMy1hYk6sR",
        "colab_type": "text"
      },
      "source": [
        "In the last cell of your notebook, use the .shape method to print the number of rows of your dataframe."
      ]
    },
    {
      "cell_type": "code",
      "metadata": {
        "id": "hhVZbHaGkIQe",
        "colab_type": "code",
        "outputId": "03c74d02-b961-4488-b4bd-6330eb66c634",
        "colab": {
          "base_uri": "https://localhost:8080/",
          "height": 36
        }
      },
      "source": [
        "print('Rows: {}'.format(loc_df.shape[0]))"
      ],
      "execution_count": 0,
      "outputs": [
        {
          "output_type": "stream",
          "text": [
            "Rows: 103\n"
          ],
          "name": "stdout"
        }
      ]
    },
    {
      "cell_type": "markdown",
      "metadata": {
        "id": "6CwomwOymiSL",
        "colab_type": "text"
      },
      "source": [
        "# Data latitude & longitude"
      ]
    },
    {
      "cell_type": "code",
      "metadata": {
        "id": "NweALrVYoupj",
        "colab_type": "code",
        "outputId": "95536e1b-2812-4f9e-bde0-015cc72ab21f",
        "colab": {
          "base_uri": "https://localhost:8080/",
          "height": 36
        }
      },
      "source": [
        "!wget -q -O 'lat_lon_data.csv' http://cocl.us/Geospatial_data\n",
        "print('Data downloaded')"
      ],
      "execution_count": 0,
      "outputs": [
        {
          "output_type": "stream",
          "text": [
            "Data downloaded\n"
          ],
          "name": "stdout"
        }
      ]
    },
    {
      "cell_type": "code",
      "metadata": {
        "id": "6YGdllAypacU",
        "colab_type": "code",
        "colab": {}
      },
      "source": [
        "geo_df = pd.read_csv('lat_lon_data.csv')"
      ],
      "execution_count": 0,
      "outputs": []
    },
    {
      "cell_type": "code",
      "metadata": {
        "id": "3M8SyE7eps0D",
        "colab_type": "code",
        "outputId": "82210f8f-f790-4423-afc4-538a1025ae8b",
        "colab": {
          "base_uri": "https://localhost:8080/",
          "height": 206
        }
      },
      "source": [
        "geo_df.head()"
      ],
      "execution_count": 0,
      "outputs": [
        {
          "output_type": "execute_result",
          "data": {
            "text/html": [
              "<div>\n",
              "<style scoped>\n",
              "    .dataframe tbody tr th:only-of-type {\n",
              "        vertical-align: middle;\n",
              "    }\n",
              "\n",
              "    .dataframe tbody tr th {\n",
              "        vertical-align: top;\n",
              "    }\n",
              "\n",
              "    .dataframe thead th {\n",
              "        text-align: right;\n",
              "    }\n",
              "</style>\n",
              "<table border=\"1\" class=\"dataframe\">\n",
              "  <thead>\n",
              "    <tr style=\"text-align: right;\">\n",
              "      <th></th>\n",
              "      <th>Postal Code</th>\n",
              "      <th>Latitude</th>\n",
              "      <th>Longitude</th>\n",
              "    </tr>\n",
              "  </thead>\n",
              "  <tbody>\n",
              "    <tr>\n",
              "      <th>0</th>\n",
              "      <td>M1B</td>\n",
              "      <td>43.806686</td>\n",
              "      <td>-79.194353</td>\n",
              "    </tr>\n",
              "    <tr>\n",
              "      <th>1</th>\n",
              "      <td>M1C</td>\n",
              "      <td>43.784535</td>\n",
              "      <td>-79.160497</td>\n",
              "    </tr>\n",
              "    <tr>\n",
              "      <th>2</th>\n",
              "      <td>M1E</td>\n",
              "      <td>43.763573</td>\n",
              "      <td>-79.188711</td>\n",
              "    </tr>\n",
              "    <tr>\n",
              "      <th>3</th>\n",
              "      <td>M1G</td>\n",
              "      <td>43.770992</td>\n",
              "      <td>-79.216917</td>\n",
              "    </tr>\n",
              "    <tr>\n",
              "      <th>4</th>\n",
              "      <td>M1H</td>\n",
              "      <td>43.773136</td>\n",
              "      <td>-79.239476</td>\n",
              "    </tr>\n",
              "  </tbody>\n",
              "</table>\n",
              "</div>"
            ],
            "text/plain": [
              "  Postal Code   Latitude  Longitude\n",
              "0         M1B  43.806686 -79.194353\n",
              "1         M1C  43.784535 -79.160497\n",
              "2         M1E  43.763573 -79.188711\n",
              "3         M1G  43.770992 -79.216917\n",
              "4         M1H  43.773136 -79.239476"
            ]
          },
          "metadata": {
            "tags": []
          },
          "execution_count": 146
        }
      ]
    },
    {
      "cell_type": "code",
      "metadata": {
        "id": "h-kev3IJq-C9",
        "colab_type": "code",
        "outputId": "da4be512-c195-4362-9ee5-fd247d404b85",
        "colab": {
          "base_uri": "https://localhost:8080/",
          "height": 81
        }
      },
      "source": [
        "geo_df[geo_df['Postal Code']== 'M5G']"
      ],
      "execution_count": 0,
      "outputs": [
        {
          "output_type": "execute_result",
          "data": {
            "text/html": [
              "<div>\n",
              "<style scoped>\n",
              "    .dataframe tbody tr th:only-of-type {\n",
              "        vertical-align: middle;\n",
              "    }\n",
              "\n",
              "    .dataframe tbody tr th {\n",
              "        vertical-align: top;\n",
              "    }\n",
              "\n",
              "    .dataframe thead th {\n",
              "        text-align: right;\n",
              "    }\n",
              "</style>\n",
              "<table border=\"1\" class=\"dataframe\">\n",
              "  <thead>\n",
              "    <tr style=\"text-align: right;\">\n",
              "      <th></th>\n",
              "      <th>Postal Code</th>\n",
              "      <th>Latitude</th>\n",
              "      <th>Longitude</th>\n",
              "    </tr>\n",
              "  </thead>\n",
              "  <tbody>\n",
              "    <tr>\n",
              "      <th>57</th>\n",
              "      <td>M5G</td>\n",
              "      <td>43.657952</td>\n",
              "      <td>-79.387383</td>\n",
              "    </tr>\n",
              "  </tbody>\n",
              "</table>\n",
              "</div>"
            ],
            "text/plain": [
              "   Postal Code   Latitude  Longitude\n",
              "57         M5G  43.657952 -79.387383"
            ]
          },
          "metadata": {
            "tags": []
          },
          "execution_count": 166
        }
      ]
    },
    {
      "cell_type": "markdown",
      "metadata": {
        "id": "ZJOKdiFep0om",
        "colab_type": "text"
      },
      "source": [
        "# Merge data"
      ]
    },
    {
      "cell_type": "code",
      "metadata": {
        "id": "bNWnRLzNp3Wj",
        "colab_type": "code",
        "colab": {}
      },
      "source": [
        "final_df = pd.merge(left=loc_df, right=geo_df, left_on='PostalCode', right_on='Postal Code')"
      ],
      "execution_count": 0,
      "outputs": []
    },
    {
      "cell_type": "code",
      "metadata": {
        "id": "OT_n7J_hrMoy",
        "colab_type": "code",
        "outputId": "61879665-2d3a-4e13-ea54-67297f7d79b1",
        "colab": {
          "base_uri": "https://localhost:8080/",
          "height": 206
        }
      },
      "source": [
        "final_df.head()"
      ],
      "execution_count": 0,
      "outputs": [
        {
          "output_type": "execute_result",
          "data": {
            "text/html": [
              "<div>\n",
              "<style scoped>\n",
              "    .dataframe tbody tr th:only-of-type {\n",
              "        vertical-align: middle;\n",
              "    }\n",
              "\n",
              "    .dataframe tbody tr th {\n",
              "        vertical-align: top;\n",
              "    }\n",
              "\n",
              "    .dataframe thead th {\n",
              "        text-align: right;\n",
              "    }\n",
              "</style>\n",
              "<table border=\"1\" class=\"dataframe\">\n",
              "  <thead>\n",
              "    <tr style=\"text-align: right;\">\n",
              "      <th></th>\n",
              "      <th>PostalCode</th>\n",
              "      <th>Borough</th>\n",
              "      <th>Neighborhood</th>\n",
              "      <th>Postal Code</th>\n",
              "      <th>Latitude</th>\n",
              "      <th>Longitude</th>\n",
              "    </tr>\n",
              "  </thead>\n",
              "  <tbody>\n",
              "    <tr>\n",
              "      <th>0</th>\n",
              "      <td>M3A</td>\n",
              "      <td>North York</td>\n",
              "      <td>Parkwoods</td>\n",
              "      <td>M3A</td>\n",
              "      <td>43.753259</td>\n",
              "      <td>-79.329656</td>\n",
              "    </tr>\n",
              "    <tr>\n",
              "      <th>1</th>\n",
              "      <td>M4A</td>\n",
              "      <td>North York</td>\n",
              "      <td>Victoria Village</td>\n",
              "      <td>M4A</td>\n",
              "      <td>43.725882</td>\n",
              "      <td>-79.315572</td>\n",
              "    </tr>\n",
              "    <tr>\n",
              "      <th>2</th>\n",
              "      <td>M5A</td>\n",
              "      <td>Downtown Toronto</td>\n",
              "      <td>Regent Park, Harbourfront</td>\n",
              "      <td>M5A</td>\n",
              "      <td>43.654260</td>\n",
              "      <td>-79.360636</td>\n",
              "    </tr>\n",
              "    <tr>\n",
              "      <th>3</th>\n",
              "      <td>M6A</td>\n",
              "      <td>North York</td>\n",
              "      <td>Lawrence Manor, Lawrence Heights</td>\n",
              "      <td>M6A</td>\n",
              "      <td>43.718518</td>\n",
              "      <td>-79.464763</td>\n",
              "    </tr>\n",
              "    <tr>\n",
              "      <th>4</th>\n",
              "      <td>M7A</td>\n",
              "      <td>Downtown Toronto</td>\n",
              "      <td>Queen's Park, Ontario Provincial Government</td>\n",
              "      <td>M7A</td>\n",
              "      <td>43.662301</td>\n",
              "      <td>-79.389494</td>\n",
              "    </tr>\n",
              "  </tbody>\n",
              "</table>\n",
              "</div>"
            ],
            "text/plain": [
              "  PostalCode           Borough  ...   Latitude  Longitude\n",
              "0        M3A        North York  ...  43.753259 -79.329656\n",
              "1        M4A        North York  ...  43.725882 -79.315572\n",
              "2        M5A  Downtown Toronto  ...  43.654260 -79.360636\n",
              "3        M6A        North York  ...  43.718518 -79.464763\n",
              "4        M7A  Downtown Toronto  ...  43.662301 -79.389494\n",
              "\n",
              "[5 rows x 6 columns]"
            ]
          },
          "metadata": {
            "tags": []
          },
          "execution_count": 175
        }
      ]
    },
    {
      "cell_type": "code",
      "metadata": {
        "id": "cYkq4o-NqG2j",
        "colab_type": "code",
        "colab": {}
      },
      "source": [
        "final_df.drop(columns='Postal Code', inplace= True)"
      ],
      "execution_count": 0,
      "outputs": []
    },
    {
      "cell_type": "code",
      "metadata": {
        "id": "PpEvh2tDs7CN",
        "colab_type": "code",
        "outputId": "e5411f3e-e803-44b2-aa02-8a84b34c4111",
        "colab": {
          "base_uri": "https://localhost:8080/",
          "height": 206
        }
      },
      "source": [
        "final_df.head()"
      ],
      "execution_count": 0,
      "outputs": [
        {
          "output_type": "execute_result",
          "data": {
            "text/html": [
              "<div>\n",
              "<style scoped>\n",
              "    .dataframe tbody tr th:only-of-type {\n",
              "        vertical-align: middle;\n",
              "    }\n",
              "\n",
              "    .dataframe tbody tr th {\n",
              "        vertical-align: top;\n",
              "    }\n",
              "\n",
              "    .dataframe thead th {\n",
              "        text-align: right;\n",
              "    }\n",
              "</style>\n",
              "<table border=\"1\" class=\"dataframe\">\n",
              "  <thead>\n",
              "    <tr style=\"text-align: right;\">\n",
              "      <th></th>\n",
              "      <th>PostalCode</th>\n",
              "      <th>Borough</th>\n",
              "      <th>Neighborhood</th>\n",
              "      <th>Latitude</th>\n",
              "      <th>Longitude</th>\n",
              "    </tr>\n",
              "  </thead>\n",
              "  <tbody>\n",
              "    <tr>\n",
              "      <th>0</th>\n",
              "      <td>M3A</td>\n",
              "      <td>North York</td>\n",
              "      <td>Parkwoods</td>\n",
              "      <td>43.753259</td>\n",
              "      <td>-79.329656</td>\n",
              "    </tr>\n",
              "    <tr>\n",
              "      <th>1</th>\n",
              "      <td>M4A</td>\n",
              "      <td>North York</td>\n",
              "      <td>Victoria Village</td>\n",
              "      <td>43.725882</td>\n",
              "      <td>-79.315572</td>\n",
              "    </tr>\n",
              "    <tr>\n",
              "      <th>2</th>\n",
              "      <td>M5A</td>\n",
              "      <td>Downtown Toronto</td>\n",
              "      <td>Regent Park, Harbourfront</td>\n",
              "      <td>43.654260</td>\n",
              "      <td>-79.360636</td>\n",
              "    </tr>\n",
              "    <tr>\n",
              "      <th>3</th>\n",
              "      <td>M6A</td>\n",
              "      <td>North York</td>\n",
              "      <td>Lawrence Manor, Lawrence Heights</td>\n",
              "      <td>43.718518</td>\n",
              "      <td>-79.464763</td>\n",
              "    </tr>\n",
              "    <tr>\n",
              "      <th>4</th>\n",
              "      <td>M7A</td>\n",
              "      <td>Downtown Toronto</td>\n",
              "      <td>Queen's Park, Ontario Provincial Government</td>\n",
              "      <td>43.662301</td>\n",
              "      <td>-79.389494</td>\n",
              "    </tr>\n",
              "  </tbody>\n",
              "</table>\n",
              "</div>"
            ],
            "text/plain": [
              "  PostalCode           Borough  ...   Latitude  Longitude\n",
              "0        M3A        North York  ...  43.753259 -79.329656\n",
              "1        M4A        North York  ...  43.725882 -79.315572\n",
              "2        M5A  Downtown Toronto  ...  43.654260 -79.360636\n",
              "3        M6A        North York  ...  43.718518 -79.464763\n",
              "4        M7A  Downtown Toronto  ...  43.662301 -79.389494\n",
              "\n",
              "[5 rows x 5 columns]"
            ]
          },
          "metadata": {
            "tags": []
          },
          "execution_count": 177
        }
      ]
    },
    {
      "cell_type": "markdown",
      "metadata": {
        "id": "I1cL2-HlsxjS",
        "colab_type": "text"
      },
      "source": [
        "# Borough processing"
      ]
    },
    {
      "cell_type": "code",
      "metadata": {
        "id": "zKhpyBFGszuy",
        "colab_type": "code",
        "colab": {}
      },
      "source": [
        "def toronto(name):\n",
        "    response = ''\n",
        "\n",
        "    for n in name.split():\n",
        "        if n == 'Toronto':\n",
        "            response = name\n",
        "\n",
        "    return response"
      ],
      "execution_count": 0,
      "outputs": []
    },
    {
      "cell_type": "code",
      "metadata": {
        "id": "i_aHTTydvI4b",
        "colab_type": "code",
        "colab": {}
      },
      "source": [
        "final_df['Toronto?'] = final_df['Borough'].apply(lambda x: toronto(x))"
      ],
      "execution_count": 0,
      "outputs": []
    },
    {
      "cell_type": "code",
      "metadata": {
        "id": "BNRGvp7jvLdI",
        "colab_type": "code",
        "colab": {}
      },
      "source": [
        "toronto_df = final_df[final_df['Toronto?'] != ''][['PostalCode','Borough','Neighborhood','Latitude','Longitude']]"
      ],
      "execution_count": 0,
      "outputs": []
    },
    {
      "cell_type": "code",
      "metadata": {
        "id": "PnjK8GjkwAix",
        "colab_type": "code",
        "colab": {
          "base_uri": "https://localhost:8080/",
          "height": 206
        },
        "outputId": "1db7bfd7-ea28-4302-eaa9-84095e025df8"
      },
      "source": [
        "toronto_df.head()"
      ],
      "execution_count": 202,
      "outputs": [
        {
          "output_type": "execute_result",
          "data": {
            "text/html": [
              "<div>\n",
              "<style scoped>\n",
              "    .dataframe tbody tr th:only-of-type {\n",
              "        vertical-align: middle;\n",
              "    }\n",
              "\n",
              "    .dataframe tbody tr th {\n",
              "        vertical-align: top;\n",
              "    }\n",
              "\n",
              "    .dataframe thead th {\n",
              "        text-align: right;\n",
              "    }\n",
              "</style>\n",
              "<table border=\"1\" class=\"dataframe\">\n",
              "  <thead>\n",
              "    <tr style=\"text-align: right;\">\n",
              "      <th></th>\n",
              "      <th>PostalCode</th>\n",
              "      <th>Borough</th>\n",
              "      <th>Neighborhood</th>\n",
              "      <th>Latitude</th>\n",
              "      <th>Longitude</th>\n",
              "    </tr>\n",
              "  </thead>\n",
              "  <tbody>\n",
              "    <tr>\n",
              "      <th>2</th>\n",
              "      <td>M5A</td>\n",
              "      <td>Downtown Toronto</td>\n",
              "      <td>Regent Park, Harbourfront</td>\n",
              "      <td>43.654260</td>\n",
              "      <td>-79.360636</td>\n",
              "    </tr>\n",
              "    <tr>\n",
              "      <th>4</th>\n",
              "      <td>M7A</td>\n",
              "      <td>Downtown Toronto</td>\n",
              "      <td>Queen's Park, Ontario Provincial Government</td>\n",
              "      <td>43.662301</td>\n",
              "      <td>-79.389494</td>\n",
              "    </tr>\n",
              "    <tr>\n",
              "      <th>9</th>\n",
              "      <td>M5B</td>\n",
              "      <td>Downtown Toronto</td>\n",
              "      <td>Garden District, Ryerson</td>\n",
              "      <td>43.657162</td>\n",
              "      <td>-79.378937</td>\n",
              "    </tr>\n",
              "    <tr>\n",
              "      <th>15</th>\n",
              "      <td>M5C</td>\n",
              "      <td>Downtown Toronto</td>\n",
              "      <td>St. James Town</td>\n",
              "      <td>43.651494</td>\n",
              "      <td>-79.375418</td>\n",
              "    </tr>\n",
              "    <tr>\n",
              "      <th>19</th>\n",
              "      <td>M4E</td>\n",
              "      <td>East Toronto</td>\n",
              "      <td>The Beaches</td>\n",
              "      <td>43.676357</td>\n",
              "      <td>-79.293031</td>\n",
              "    </tr>\n",
              "  </tbody>\n",
              "</table>\n",
              "</div>"
            ],
            "text/plain": [
              "   PostalCode           Borough  ...   Latitude  Longitude\n",
              "2         M5A  Downtown Toronto  ...  43.654260 -79.360636\n",
              "4         M7A  Downtown Toronto  ...  43.662301 -79.389494\n",
              "9         M5B  Downtown Toronto  ...  43.657162 -79.378937\n",
              "15        M5C  Downtown Toronto  ...  43.651494 -79.375418\n",
              "19        M4E      East Toronto  ...  43.676357 -79.293031\n",
              "\n",
              "[5 rows x 5 columns]"
            ]
          },
          "metadata": {
            "tags": []
          },
          "execution_count": 202
        }
      ]
    },
    {
      "cell_type": "code",
      "metadata": {
        "id": "E7nQ67HgwaM7",
        "colab_type": "code",
        "colab": {
          "base_uri": "https://localhost:8080/",
          "height": 827
        },
        "outputId": "8f326fda-aeaa-49ec-a41b-2b36e4196b55"
      },
      "source": [
        "map_toronto = folium.Map(location=[43.651070, -79.347015], zoom_start=11)\n",
        "\n",
        "for lat, lng, label in zip(toronto_df['Latitude'], toronto_df['Longitude'], toronto_df['Neighborhood']):\n",
        "    label = folium.Popup(label, parse_html=True)\n",
        "    folium.CircleMarker(\n",
        "        [lat, lng],\n",
        "        radius=5,\n",
        "        popup=label,\n",
        "        color='red',\n",
        "        fill=True,\n",
        "        fill_color='#3186cc',\n",
        "        fill_opacity=0.7,\n",
        "        parse_html=False).add_to(map_toronto)  \n",
        "    \n",
        "map_toronto"
      ],
      "execution_count": 199,
      "outputs": [
        {
          "output_type": "execute_result",
          "data": {
            "text/html": [
              "<div style=\"width:100%;\"><div style=\"position:relative;width:100%;height:0;padding-bottom:60%;\"><iframe src=\"about:blank\" style=\"position:absolute;width:100%;height:100%;left:0;top:0;border:none !important;\" data-html=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 onload=\"this.contentDocument.open();this.contentDocument.write(atob(this.getAttribute('data-html')));this.contentDocument.close();\" allowfullscreen webkitallowfullscreen mozallowfullscreen></iframe></div></div>"
            ],
            "text/plain": [
              "<folium.folium.Map at 0x7f8c85cf4400>"
            ]
          },
          "metadata": {
            "tags": []
          },
          "execution_count": 199
        }
      ]
    },
    {
      "cell_type": "markdown",
      "metadata": {
        "id": "8AGwhn3FxesX",
        "colab_type": "text"
      },
      "source": [
        "# Cluster Neighborhoods"
      ]
    },
    {
      "cell_type": "code",
      "metadata": {
        "id": "__nhHNZ6w6Gf",
        "colab_type": "code",
        "colab": {}
      },
      "source": [
        "clusters_num = 4\n",
        "\n",
        "toronto_grouped_clustering = manhattan_grouped.drop('Neighborhood', 1)\n",
        "\n",
        "# run k-means clustering\n",
        "kmeans = KMeans(n_clusters=kclusters, random_state=0).fit(manhattan_grouped_clustering)\n",
        "\n",
        "# check cluster labels generated for each row in the dataframe\n",
        "kmeans.labels_[0:10] "
      ],
      "execution_count": 0,
      "outputs": []
    }
  ]
}