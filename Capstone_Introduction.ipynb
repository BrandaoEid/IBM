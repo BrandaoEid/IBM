{
  "nbformat": 4,
  "nbformat_minor": 0,
  "metadata": {
    "colab": {
      "name": "Capstone Introduction",
      "provenance": [],
      "authorship_tag": "ABX9TyMo/jXYFuQKv5Ns5zdWr2fN",
      "include_colab_link": true
    },
    "kernelspec": {
      "name": "python3",
      "display_name": "Python 3"
    }
  },
  "cells": [
    {
      "cell_type": "markdown",
      "metadata": {
        "id": "view-in-github",
        "colab_type": "text"
      },
      "source": [
        "<a href=\"https://colab.research.google.com/github/BrandaoEid/IBM/blob/master/Capstone_Introduction.ipynb\" target=\"_parent\"><img src=\"https://colab.research.google.com/assets/colab-badge.svg\" alt=\"Open In Colab\"/></a>"
      ]
    },
    {
      "cell_type": "markdown",
      "metadata": {
        "id": "rpW8PAMJn8Xn",
        "colab_type": "text"
      },
      "source": [
        "# Business problem\n",
        "\n",
        "This work aims to entrepreneur that are looking to open a new restaurant in Campinas - Brazil. A successful enterprise must take into account several factors and this project has the function of demonstrating the best location according to the age of the population, income and type of establishment.\n"
      ]
    },
    {
      "cell_type": "markdown",
      "metadata": {
        "id": "uoScMCTjpDnf",
        "colab_type": "text"
      },
      "source": [
        "# Data\n",
        "\n",
        "In order to achieve the objective I will use:\n",
        "\n",
        "* Borough \n",
        "* Borough latitude\n",
        "* Borough longitude\n",
        "* Borough population age (0 - 20)\n",
        "* Borough population age (20 - 40)\n",
        "* Borough population age (40 - 60)\n",
        "* Borough population age (60+)\n",
        "* 5 most important venues\n",
        "* Income"
      ]
    }
  ]
}